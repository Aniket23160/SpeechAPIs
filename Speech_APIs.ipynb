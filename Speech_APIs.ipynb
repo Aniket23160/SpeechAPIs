{
  "nbformat": 4,
  "nbformat_minor": 0,
  "metadata": {
    "colab": {
      "provenance": []
    },
    "kernelspec": {
      "name": "python3",
      "display_name": "Python 3"
    },
    "language_info": {
      "name": "python"
    }
  },
  "cells": [
    {
      "cell_type": "markdown",
      "source": [
        "#Assembly AI"
      ],
      "metadata": {
        "id": "IblZBI2eh_AN"
      }
    },
    {
      "cell_type": "code",
      "execution_count": 1,
      "metadata": {
        "colab": {
          "base_uri": "https://localhost:8080/"
        },
        "id": "YsoCpyCShvuk",
        "outputId": "019c06b9-6e50-4d56-f972-dcad77c39ef1"
      },
      "outputs": [
        {
          "output_type": "stream",
          "name": "stdout",
          "text": [
            "Collecting assemblyai\n",
            "  Downloading assemblyai-0.18.0-py3-none-any.whl (64 kB)\n",
            "\u001b[2K     \u001b[90m━━━━━━━━━━━━━━━━━━━━━━━━━━━━━━━━━━━━━━━━\u001b[0m \u001b[32m64.7/64.7 kB\u001b[0m \u001b[31m1.8 MB/s\u001b[0m eta \u001b[36m0:00:00\u001b[0m\n",
            "\u001b[?25hCollecting httpx>=0.19.0 (from assemblyai)\n",
            "  Downloading httpx-0.25.0-py3-none-any.whl (75 kB)\n",
            "\u001b[2K     \u001b[90m━━━━━━━━━━━━━━━━━━━━━━━━━━━━━━━━━━━━━━━━\u001b[0m \u001b[32m75.7/75.7 kB\u001b[0m \u001b[31m3.3 MB/s\u001b[0m eta \u001b[36m0:00:00\u001b[0m\n",
            "\u001b[?25hRequirement already satisfied: pydantic!=1.10.7,>=1.7.0 in /usr/local/lib/python3.10/dist-packages (from assemblyai) (1.10.13)\n",
            "Requirement already satisfied: typing-extensions>=3.7 in /usr/local/lib/python3.10/dist-packages (from assemblyai) (4.5.0)\n",
            "Collecting websockets>=11.0 (from assemblyai)\n",
            "  Downloading websockets-11.0.3-cp310-cp310-manylinux_2_5_x86_64.manylinux1_x86_64.manylinux_2_17_x86_64.manylinux2014_x86_64.whl (129 kB)\n",
            "\u001b[2K     \u001b[90m━━━━━━━━━━━━━━━━━━━━━━━━━━━━━━━━━━━━━━\u001b[0m \u001b[32m129.9/129.9 kB\u001b[0m \u001b[31m12.2 MB/s\u001b[0m eta \u001b[36m0:00:00\u001b[0m\n",
            "\u001b[?25hRequirement already satisfied: certifi in /usr/local/lib/python3.10/dist-packages (from httpx>=0.19.0->assemblyai) (2023.7.22)\n",
            "Collecting httpcore<0.19.0,>=0.18.0 (from httpx>=0.19.0->assemblyai)\n",
            "  Downloading httpcore-0.18.0-py3-none-any.whl (76 kB)\n",
            "\u001b[2K     \u001b[90m━━━━━━━━━━━━━━━━━━━━━━━━━━━━━━━━━━━━━━━━\u001b[0m \u001b[32m76.0/76.0 kB\u001b[0m \u001b[31m9.8 MB/s\u001b[0m eta \u001b[36m0:00:00\u001b[0m\n",
            "\u001b[?25hRequirement already satisfied: idna in /usr/local/lib/python3.10/dist-packages (from httpx>=0.19.0->assemblyai) (3.4)\n",
            "Requirement already satisfied: sniffio in /usr/local/lib/python3.10/dist-packages (from httpx>=0.19.0->assemblyai) (1.3.0)\n",
            "Requirement already satisfied: anyio<5.0,>=3.0 in /usr/local/lib/python3.10/dist-packages (from httpcore<0.19.0,>=0.18.0->httpx>=0.19.0->assemblyai) (3.7.1)\n",
            "Collecting h11<0.15,>=0.13 (from httpcore<0.19.0,>=0.18.0->httpx>=0.19.0->assemblyai)\n",
            "  Downloading h11-0.14.0-py3-none-any.whl (58 kB)\n",
            "\u001b[2K     \u001b[90m━━━━━━━━━━━━━━━━━━━━━━━━━━━━━━━━━━━━━━━━\u001b[0m \u001b[32m58.3/58.3 kB\u001b[0m \u001b[31m6.1 MB/s\u001b[0m eta \u001b[36m0:00:00\u001b[0m\n",
            "\u001b[?25hRequirement already satisfied: exceptiongroup in /usr/local/lib/python3.10/dist-packages (from anyio<5.0,>=3.0->httpcore<0.19.0,>=0.18.0->httpx>=0.19.0->assemblyai) (1.1.3)\n",
            "Installing collected packages: websockets, h11, httpcore, httpx, assemblyai\n",
            "Successfully installed assemblyai-0.18.0 h11-0.14.0 httpcore-0.18.0 httpx-0.25.0 websockets-11.0.3\n"
          ]
        }
      ],
      "source": [
        "!pip install assemblyai\n"
      ]
    },
    {
      "cell_type": "code",
      "source": [
        "import assemblyai as aai\n",
        "\n",
        "aai.settings.api_key = f\"API Key\"\n",
        "\n",
        "FILE_URL = \"https://github.com/AssemblyAI-Examples/audio-examples/raw/main/20230607_me_canadian_wildfires.mp3\"\n",
        "\n",
        "transcriber = aai.Transcriber()\n",
        "transcript = transcriber.transcribe(FILE_URL)\n",
        "\n",
        "print(transcript.text)"
      ],
      "metadata": {
        "colab": {
          "base_uri": "https://localhost:8080/"
        },
        "id": "s8AYTe8Hh87I",
        "outputId": "65617151-e0c3-48ff-e974-9a9e67398f8d"
      },
      "execution_count": 2,
      "outputs": [
        {
          "output_type": "stream",
          "name": "stdout",
          "text": [
            "Smoke from hundreds of wildfires in Canada is triggering air quality alerts throughout the US. Skylines from Maine to Maryland to Minnesota are gray and smoggy. And in some places, the air quality warnings include the warning to stay inside. We wanted to better understand what's happening here and why, so we called Peter DiCarlo, an associate professor in the Department of Environmental Health and Engineering at Johns Hopkins University. Good morning, professor. Good morning. So what is it about the conditions right now that have caused this round of wildfires to affect so many people so far away? Well, there's a couple of things. The season has been pretty dry already, and then the fact that we're getting hit in the US. Is because there's a couple of weather systems that are essentially channeling the smoke from those Canadian wildfires through Pennsylvania into the Mid Atlantic and the Northeast and kind of just dropping the smoke there. So what is it in this haze that makes it harmful? And I'm assuming it is is it is the levels outside right now in Baltimore are considered unhealthy. And most of that is due to what's called particulate matter, which are tiny particles, microscopic smaller than the width of your hair, that can get into your lungs and impact your respiratory system, your cardiovascular system, and even your neurological your brain. What makes this particularly harmful? Is it the volume of particulate? Is it something in particular? What is it exactly? Can you just drill down on that a little bit more? Yeah. So the concentration of particulate matter I was looking at some of the monitors that we have was reaching levels of what are, in science speak, 150 micrograms per meter cubed, which is more than ten times what the annual average should be, and about four times higher than what you're supposed to have on a 24 hours average. And so the concentrations of these particles in the air are just much, much higher than we typically see. And exposure to those high levels can lead to a host of health problems. And who is most vulnerable? I noticed that in New York City, for example, they're canceling outdoor activities, and so here it is in the early days of summer, and they have to keep all the kids inside. So who tends to be vulnerable in a situation like this? It's the youngest. So children, obviously, whose bodies are still developing. The elderly who know their bodies are more in decline, and they're more susceptible to the health impacts of breathing, the poor air quality. And then people who have preexisting health conditions, people with respiratory conditions or heart conditions can be triggered by high levels of air pollution. Could this get worse? That's a good in some areas, it's much worse than others. And it just depends on kind of where the smoke is concentrated. I think New York has some of the higher concentrations right now, but that's going to change as that air moves away from the New York area. But over the course of the next few days, we will see different areas being hit at different times with the highest concentrations. I was going to ask you, more fires start burning, I don't expect the concentrations to go up too much higher. I was going to ask you and you started to answer this, but how much longer could this last? Or forgive me if I'm asking you to speculate, but what do you think? Well, I think the fires are going to burn for a little bit longer, but the key for us in the US. Is the weather system changing. And so right now, it's kind of the weather systems that are pulling that air into our mid Atlantic and Northeast region. As those weather systems change and shift, we'll see that smoke going elsewhere and not impact us in this region as much. And so I think that's going to be the defining factor. And I think the next couple of days we're going to see a shift in that weather pattern and start to push the smoke away from where we are. And finally, with the impacts of climate change, we are seeing more wildfires. Will we be seeing more of these kinds of wide ranging air quality consequences or circumstances? I mean, that is one of the predictions for climate change. Looking into the future, the fire season is starting earlier and lasting longer and we're seeing more frequent fires. So, yeah, this is probably something that we'll be seeing more frequently. This tends to be much more of an issue in the Western US. So the Eastern US getting hit right now is a little bit new. But yeah, I think with climate change moving forward, this is something that is going to happen more frequently. That's Peter DiCarlo, associate professor in the Department of Environmental Health and Engineering at Johns Hopkins University. Sergeant Carlo, thanks so much for joining us and sharing this expertise with us. Thank you for having me.\n"
          ]
        }
      ]
    },
    {
      "cell_type": "markdown",
      "source": [
        "Tried with realtime also but that requires paid version of API"
      ],
      "metadata": {
        "id": "nuhffwzOiC1O"
      }
    },
    {
      "cell_type": "markdown",
      "source": [
        "#DeepGram"
      ],
      "metadata": {
        "id": "vJmLY4qdiWDQ"
      }
    },
    {
      "cell_type": "code",
      "source": [
        "!pip install deepgram-sdk\n",
        "\n"
      ],
      "metadata": {
        "colab": {
          "base_uri": "https://localhost:8080/"
        },
        "id": "49Tf__DrkpDj",
        "outputId": "2865c840-12f9-466f-f970-0e97e59a45ef"
      },
      "execution_count": 1,
      "outputs": [
        {
          "output_type": "stream",
          "name": "stdout",
          "text": [
            "Collecting deepgram-sdk\n",
            "  Downloading deepgram_sdk-2.11.0-py3-none-any.whl (23 kB)\n",
            "Requirement already satisfied: aiohttp in /usr/local/lib/python3.10/dist-packages (from deepgram-sdk) (3.8.5)\n",
            "Collecting websockets (from deepgram-sdk)\n",
            "  Downloading websockets-11.0.3-cp310-cp310-manylinux_2_5_x86_64.manylinux1_x86_64.manylinux_2_17_x86_64.manylinux2014_x86_64.whl (129 kB)\n",
            "\u001b[2K     \u001b[90m━━━━━━━━━━━━━━━━━━━━━━━━━━━━━━━━━━━━━━━\u001b[0m \u001b[32m129.9/129.9 kB\u001b[0m \u001b[31m5.1 MB/s\u001b[0m eta \u001b[36m0:00:00\u001b[0m\n",
            "\u001b[?25hRequirement already satisfied: attrs>=17.3.0 in /usr/local/lib/python3.10/dist-packages (from aiohttp->deepgram-sdk) (23.1.0)\n",
            "Requirement already satisfied: charset-normalizer<4.0,>=2.0 in /usr/local/lib/python3.10/dist-packages (from aiohttp->deepgram-sdk) (3.3.0)\n",
            "Requirement already satisfied: multidict<7.0,>=4.5 in /usr/local/lib/python3.10/dist-packages (from aiohttp->deepgram-sdk) (6.0.4)\n",
            "Requirement already satisfied: async-timeout<5.0,>=4.0.0a3 in /usr/local/lib/python3.10/dist-packages (from aiohttp->deepgram-sdk) (4.0.3)\n",
            "Requirement already satisfied: yarl<2.0,>=1.0 in /usr/local/lib/python3.10/dist-packages (from aiohttp->deepgram-sdk) (1.9.2)\n",
            "Requirement already satisfied: frozenlist>=1.1.1 in /usr/local/lib/python3.10/dist-packages (from aiohttp->deepgram-sdk) (1.4.0)\n",
            "Requirement already satisfied: aiosignal>=1.1.2 in /usr/local/lib/python3.10/dist-packages (from aiohttp->deepgram-sdk) (1.3.1)\n",
            "Requirement already satisfied: idna>=2.0 in /usr/local/lib/python3.10/dist-packages (from yarl<2.0,>=1.0->aiohttp->deepgram-sdk) (3.4)\n",
            "Installing collected packages: websockets, deepgram-sdk\n",
            "Successfully installed deepgram-sdk-2.11.0 websockets-11.0.3\n"
          ]
        }
      ]
    },
    {
      "cell_type": "code",
      "source": [
        "from deepgram import Deepgram\n",
        "import json\n",
        "\n",
        "# The API key we created in step 3\n",
        "DEEPGRAM_API_KEY = 'API KEY'\n",
        "\n",
        "# Hosted sample file\n",
        "AUDIO_URL = \"https://static.deepgram.com/examples/Bueller-Life-moves-pretty-fast.wav\"\n",
        "\n",
        "def main():\n",
        "    # Initializes the Deepgram SDK\n",
        "    dg_client = Deepgram(DEEPGRAM_API_KEY)\n",
        "    source = {'url': AUDIO_URL}\n",
        "    options = { \"smart_format\": True, \"model\": \"nova\", \"language\": \"en-US\" }\n",
        "\n",
        "    print('Requesting transcript...')\n",
        "\n",
        "    response = dg_client.transcription.sync_prerecorded(source, options)\n",
        "    print(json.dumps(response, indent=4))\n",
        "\n",
        "main()"
      ],
      "metadata": {
        "colab": {
          "base_uri": "https://localhost:8080/"
        },
        "id": "c6q2q-VxUaDT",
        "outputId": "d6070bcc-35cd-477b-c4be-92055e76f51d"
      },
      "execution_count": 24,
      "outputs": [
        {
          "output_type": "stream",
          "name": "stdout",
          "text": [
            "Requesting transcript...\n",
            "{\n",
            "    \"metadata\": {\n",
            "        \"transaction_key\": \"deprecated\",\n",
            "        \"request_id\": \"cb025dbe-2be1-45bb-845e-a88858b32900\",\n",
            "        \"sha256\": \"5324da68ede209a16ac69a38e8cd29cee4d754434a041166cda3a1f5e0b24566\",\n",
            "        \"created\": \"2023-10-12T10:58:57.564Z\",\n",
            "        \"duration\": 17.566313,\n",
            "        \"channels\": 1,\n",
            "        \"models\": [\n",
            "            \"b227621c-0920-4128-b4b5-a3e0f525d2d7\"\n",
            "        ],\n",
            "        \"model_info\": {\n",
            "            \"b227621c-0920-4128-b4b5-a3e0f525d2d7\": {\n",
            "                \"name\": \"general-nova\",\n",
            "                \"version\": \"2023-07-28.18608\",\n",
            "                \"arch\": \"nova\"\n",
            "            }\n",
            "        }\n",
            "    },\n",
            "    \"results\": {\n",
            "        \"channels\": [\n",
            "            {\n",
            "                \"alternatives\": [\n",
            "                    {\n",
            "                        \"transcript\": \"Yep. I said it before, and I'll say it again. Life moves pretty fast. You don't stop and look around once in a while. You could miss it\",\n",
            "                        \"confidence\": 0.99609375,\n",
            "                        \"words\": [\n",
            "                            {\n",
            "                                \"word\": \"yep\",\n",
            "                                \"start\": 5.52,\n",
            "                                \"end\": 6.02,\n",
            "                                \"confidence\": 0.9458008,\n",
            "                                \"punctuated_word\": \"Yep.\"\n",
            "                            },\n",
            "                            {\n",
            "                                \"word\": \"i\",\n",
            "                                \"start\": 7.095,\n",
            "                                \"end\": 7.2549996,\n",
            "                                \"confidence\": 0.6333008,\n",
            "                                \"punctuated_word\": \"I\"\n",
            "                            },\n",
            "                            {\n",
            "                                \"word\": \"said\",\n",
            "                                \"start\": 7.2549996,\n",
            "                                \"end\": 7.495,\n",
            "                                \"confidence\": 0.9848633,\n",
            "                                \"punctuated_word\": \"said\"\n",
            "                            },\n",
            "                            {\n",
            "                                \"word\": \"it\",\n",
            "                                \"start\": 7.495,\n",
            "                                \"end\": 7.575,\n",
            "                                \"confidence\": 0.99853516,\n",
            "                                \"punctuated_word\": \"it\"\n",
            "                            },\n",
            "                            {\n",
            "                                \"word\": \"before\",\n",
            "                                \"start\": 7.575,\n",
            "                                \"end\": 7.895,\n",
            "                                \"confidence\": 0.8720703,\n",
            "                                \"punctuated_word\": \"before,\"\n",
            "                            },\n",
            "                            {\n",
            "                                \"word\": \"and\",\n",
            "                                \"start\": 7.895,\n",
            "                                \"end\": 8.135,\n",
            "                                \"confidence\": 0.99853516,\n",
            "                                \"punctuated_word\": \"and\"\n",
            "                            },\n",
            "                            {\n",
            "                                \"word\": \"i'll\",\n",
            "                                \"start\": 8.135,\n",
            "                                \"end\": 8.295,\n",
            "                                \"confidence\": 0.9987793,\n",
            "                                \"punctuated_word\": \"I'll\"\n",
            "                            },\n",
            "                            {\n",
            "                                \"word\": \"say\",\n",
            "                                \"start\": 8.295,\n",
            "                                \"end\": 8.455,\n",
            "                                \"confidence\": 0.9995117,\n",
            "                                \"punctuated_word\": \"say\"\n",
            "                            },\n",
            "                            {\n",
            "                                \"word\": \"it\",\n",
            "                                \"start\": 8.455,\n",
            "                                \"end\": 8.615,\n",
            "                                \"confidence\": 0.9995117,\n",
            "                                \"punctuated_word\": \"it\"\n",
            "                            },\n",
            "                            {\n",
            "                                \"word\": \"again\",\n",
            "                                \"start\": 8.615,\n",
            "                                \"end\": 9.115,\n",
            "                                \"confidence\": 0.93896484,\n",
            "                                \"punctuated_word\": \"again.\"\n",
            "                            },\n",
            "                            {\n",
            "                                \"word\": \"life\",\n",
            "                                \"start\": 9.975,\n",
            "                                \"end\": 10.295,\n",
            "                                \"confidence\": 0.9951172,\n",
            "                                \"punctuated_word\": \"Life\"\n",
            "                            },\n",
            "                            {\n",
            "                                \"word\": \"moves\",\n",
            "                                \"start\": 10.295,\n",
            "                                \"end\": 10.615,\n",
            "                                \"confidence\": 0.99658203,\n",
            "                                \"punctuated_word\": \"moves\"\n",
            "                            },\n",
            "                            {\n",
            "                                \"word\": \"pretty\",\n",
            "                                \"start\": 10.615,\n",
            "                                \"end\": 11.014999,\n",
            "                                \"confidence\": 0.9995117,\n",
            "                                \"punctuated_word\": \"pretty\"\n",
            "                            },\n",
            "                            {\n",
            "                                \"word\": \"fast\",\n",
            "                                \"start\": 11.014999,\n",
            "                                \"end\": 11.514999,\n",
            "                                \"confidence\": 0.9975586,\n",
            "                                \"punctuated_word\": \"fast.\"\n",
            "                            },\n",
            "                            {\n",
            "                                \"word\": \"you\",\n",
            "                                \"start\": 11.975,\n",
            "                                \"end\": 12.135,\n",
            "                                \"confidence\": 0.98291016,\n",
            "                                \"punctuated_word\": \"You\"\n",
            "                            },\n",
            "                            {\n",
            "                                \"word\": \"don't\",\n",
            "                                \"start\": 12.135,\n",
            "                                \"end\": 12.375,\n",
            "                                \"confidence\": 0.9987793,\n",
            "                                \"punctuated_word\": \"don't\"\n",
            "                            },\n",
            "                            {\n",
            "                                \"word\": \"stop\",\n",
            "                                \"start\": 12.375,\n",
            "                                \"end\": 12.695,\n",
            "                                \"confidence\": 0.9995117,\n",
            "                                \"punctuated_word\": \"stop\"\n",
            "                            },\n",
            "                            {\n",
            "                                \"word\": \"and\",\n",
            "                                \"start\": 12.695,\n",
            "                                \"end\": 12.855,\n",
            "                                \"confidence\": 0.99609375,\n",
            "                                \"punctuated_word\": \"and\"\n",
            "                            },\n",
            "                            {\n",
            "                                \"word\": \"look\",\n",
            "                                \"start\": 12.855,\n",
            "                                \"end\": 13.014999,\n",
            "                                \"confidence\": 1.0,\n",
            "                                \"punctuated_word\": \"look\"\n",
            "                            },\n",
            "                            {\n",
            "                                \"word\": \"around\",\n",
            "                                \"start\": 13.014999,\n",
            "                                \"end\": 13.334999,\n",
            "                                \"confidence\": 1.0,\n",
            "                                \"punctuated_word\": \"around\"\n",
            "                            },\n",
            "                            {\n",
            "                                \"word\": \"once\",\n",
            "                                \"start\": 13.334999,\n",
            "                                \"end\": 13.575,\n",
            "                                \"confidence\": 0.9824219,\n",
            "                                \"punctuated_word\": \"once\"\n",
            "                            },\n",
            "                            {\n",
            "                                \"word\": \"in\",\n",
            "                                \"start\": 13.575,\n",
            "                                \"end\": 13.735,\n",
            "                                \"confidence\": 0.9975586,\n",
            "                                \"punctuated_word\": \"in\"\n",
            "                            },\n",
            "                            {\n",
            "                                \"word\": \"a\",\n",
            "                                \"start\": 13.735,\n",
            "                                \"end\": 13.815,\n",
            "                                \"confidence\": 0.9838867,\n",
            "                                \"punctuated_word\": \"a\"\n",
            "                            },\n",
            "                            {\n",
            "                                \"word\": \"while\",\n",
            "                                \"start\": 13.815,\n",
            "                                \"end\": 14.315,\n",
            "                                \"confidence\": 0.85595703,\n",
            "                                \"punctuated_word\": \"while.\"\n",
            "                            },\n",
            "                            {\n",
            "                                \"word\": \"you\",\n",
            "                                \"start\": 14.641313,\n",
            "                                \"end\": 14.7213125,\n",
            "                                \"confidence\": 0.4794922,\n",
            "                                \"punctuated_word\": \"You\"\n",
            "                            },\n",
            "                            {\n",
            "                                \"word\": \"could\",\n",
            "                                \"start\": 14.7213125,\n",
            "                                \"end\": 14.961312,\n",
            "                                \"confidence\": 0.9946289,\n",
            "                                \"punctuated_word\": \"could\"\n",
            "                            },\n",
            "                            {\n",
            "                                \"word\": \"miss\",\n",
            "                                \"start\": 14.961312,\n",
            "                                \"end\": 15.201313,\n",
            "                                \"confidence\": 0.99609375,\n",
            "                                \"punctuated_word\": \"miss\"\n",
            "                            },\n",
            "                            {\n",
            "                                \"word\": \"it\",\n",
            "                                \"start\": 15.201313,\n",
            "                                \"end\": 15.701313,\n",
            "                                \"confidence\": 0.9873047,\n",
            "                                \"punctuated_word\": \"it\"\n",
            "                            }\n",
            "                        ],\n",
            "                        \"paragraphs\": {\n",
            "                            \"transcript\": \"\\nYep. I said it before, and I'll say it again. Life moves pretty fast. You don't stop and look around once in a while. You could miss it\",\n",
            "                            \"paragraphs\": [\n",
            "                                {\n",
            "                                    \"sentences\": [\n",
            "                                        {\n",
            "                                            \"text\": \"Yep.\",\n",
            "                                            \"start\": 5.52,\n",
            "                                            \"end\": 6.02\n",
            "                                        },\n",
            "                                        {\n",
            "                                            \"text\": \"I said it before, and I'll say it again.\",\n",
            "                                            \"start\": 7.095,\n",
            "                                            \"end\": 9.115\n",
            "                                        },\n",
            "                                        {\n",
            "                                            \"text\": \"Life moves pretty fast.\",\n",
            "                                            \"start\": 9.975,\n",
            "                                            \"end\": 11.514999\n",
            "                                        },\n",
            "                                        {\n",
            "                                            \"text\": \"You don't stop and look around once in a while.\",\n",
            "                                            \"start\": 11.975,\n",
            "                                            \"end\": 14.315\n",
            "                                        },\n",
            "                                        {\n",
            "                                            \"text\": \"You could miss it\",\n",
            "                                            \"start\": 14.641313,\n",
            "                                            \"end\": 15.701313\n",
            "                                        }\n",
            "                                    ],\n",
            "                                    \"num_words\": 28,\n",
            "                                    \"start\": 5.52,\n",
            "                                    \"end\": 15.701313\n",
            "                                }\n",
            "                            ]\n",
            "                        }\n",
            "                    }\n",
            "                ]\n",
            "            }\n",
            "        ]\n",
            "    }\n",
            "}\n"
          ]
        }
      ]
    },
    {
      "cell_type": "markdown",
      "source": [
        "#Google Text To speech API"
      ],
      "metadata": {
        "id": "V-TClAmbj8F0"
      }
    },
    {
      "cell_type": "code",
      "source": [
        "!pip install gtts"
      ],
      "metadata": {
        "colab": {
          "base_uri": "https://localhost:8080/"
        },
        "id": "vV67GQOQgLKr",
        "outputId": "d9a124f0-56a1-4b40-db82-2d3b0fb62fd0"
      },
      "execution_count": 19,
      "outputs": [
        {
          "output_type": "stream",
          "name": "stdout",
          "text": [
            "Collecting gtts\n",
            "  Downloading gTTS-2.4.0-py3-none-any.whl (29 kB)\n",
            "Requirement already satisfied: requests<3,>=2.27 in /usr/local/lib/python3.10/dist-packages (from gtts) (2.31.0)\n",
            "Requirement already satisfied: click<8.2,>=7.1 in /usr/local/lib/python3.10/dist-packages (from gtts) (8.1.7)\n",
            "Requirement already satisfied: charset-normalizer<4,>=2 in /usr/local/lib/python3.10/dist-packages (from requests<3,>=2.27->gtts) (3.3.0)\n",
            "Requirement already satisfied: idna<4,>=2.5 in /usr/local/lib/python3.10/dist-packages (from requests<3,>=2.27->gtts) (3.4)\n",
            "Requirement already satisfied: urllib3<3,>=1.21.1 in /usr/local/lib/python3.10/dist-packages (from requests<3,>=2.27->gtts) (1.26.17)\n",
            "Requirement already satisfied: certifi>=2017.4.17 in /usr/local/lib/python3.10/dist-packages (from requests<3,>=2.27->gtts) (2023.7.22)\n",
            "Installing collected packages: gtts\n",
            "Successfully installed gtts-2.4.0\n"
          ]
        }
      ]
    },
    {
      "cell_type": "code",
      "source": [
        "from gtts import gTTS\n",
        "language='en'\n",
        "text='My name is Aniket'\n",
        "speech=gTTS(text=text,lang=language,slow=False,tld=\"co.uk\")\n",
        "AudioPath=\"/content/drive/MyDrive/TextToSpeech/test.mp3\"\n",
        "speech.save(AudioPath)"
      ],
      "metadata": {
        "id": "mtevVOZfe3hr"
      },
      "execution_count": 34,
      "outputs": []
    },
    {
      "cell_type": "code",
      "source": [
        "!pip install playsound"
      ],
      "metadata": {
        "colab": {
          "base_uri": "https://localhost:8080/"
        },
        "id": "MBjCpjKcjMlK",
        "outputId": "43168d95-9d53-40da-ba82-3d1b145ca984"
      },
      "execution_count": 26,
      "outputs": [
        {
          "output_type": "stream",
          "name": "stdout",
          "text": [
            "Collecting playsound\n",
            "  Downloading playsound-1.3.0.tar.gz (7.7 kB)\n",
            "  Preparing metadata (setup.py) ... \u001b[?25l\u001b[?25hdone\n",
            "Building wheels for collected packages: playsound\n",
            "  Building wheel for playsound (setup.py) ... \u001b[?25l\u001b[?25hdone\n",
            "  Created wheel for playsound: filename=playsound-1.3.0-py3-none-any.whl size=7020 sha256=64b0b878d07a5113bd402dec2752b952a7977c3509d1e5ebf4cfd6c1b1e2434c\n",
            "  Stored in directory: /root/.cache/pip/wheels/90/89/ed/2d643f4226fc8c7c9156fc28abd8051e2d2c0de37ae51ac45c\n",
            "Successfully built playsound\n",
            "Installing collected packages: playsound\n",
            "Successfully installed playsound-1.3.0\n"
          ]
        }
      ]
    },
    {
      "cell_type": "code",
      "source": [
        "from IPython.display import Audio, display\n",
        "\n",
        "display(Audio(AudioPath, autoplay=True))"
      ],
      "metadata": {
        "colab": {
          "base_uri": "https://localhost:8080/",
          "height": 75
        },
        "id": "atJIyfDljK9k",
        "outputId": "c2b7c38a-b052-4315-9782-306b5f18269d"
      },
      "execution_count": 35,
      "outputs": [
        {
          "output_type": "display_data",
          "data": {
            "text/plain": [
              "<IPython.lib.display.Audio object>"
            ],
            "text/html": [
              "\n",
              "                <audio  controls=\"controls\" autoplay=\"autoplay\">\n",
              "                    <source src=\"data:audio/mpeg;base64,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\" type=\"audio/mpeg\" />\n",
              "                    Your browser does not support the audio element.\n",
              "                </audio>\n",
              "              "
            ]
          },
          "metadata": {}
        }
      ]
    },
    {
      "cell_type": "code",
      "source": [],
      "metadata": {
        "id": "ua2oCcimj3qT"
      },
      "execution_count": null,
      "outputs": []
    }
  ]
}